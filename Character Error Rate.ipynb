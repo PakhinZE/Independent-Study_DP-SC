{
 "cells": [
  {
   "cell_type": "code",
   "execution_count": null,
   "metadata": {},
   "outputs": [],
   "source": [
    "from pathlib import Path\n",
    "from torchmetrics.text import CharErrorRate\n",
    "\n",
    "import model"
   ]
  },
  {
   "cell_type": "code",
   "execution_count": 18,
   "metadata": {},
   "outputs": [],
   "source": [
    "PATH = Path(\".\")"
   ]
  },
  {
   "cell_type": "code",
   "execution_count": 19,
   "metadata": {},
   "outputs": [],
   "source": [
    "label_path = (\n",
    "    PATH.joinpath(\"normalization_dataset/\")\n",
    "    .joinpath(\"normalization_test.1blm\")\n",
    "    .absolute()\n",
    ")\n",
    "mask_label_path = (\n",
    "    PATH.joinpath(\"normalization_dataset/\")\n",
    "    .joinpath(\"normalization_train.1blm\")\n",
    "    .absolute()\n",
    ")"
   ]
  },
  {
   "cell_type": "code",
   "execution_count": 20,
   "metadata": {},
   "outputs": [],
   "source": [
    "pred_path = PATH.joinpath(\"result\").joinpath(\"prediction\").absolute()\n",
    "dp_pred_path = PATH.joinpath(\"result\").joinpath(\"dp-prediction\").absolute()\n",
    "mask_pred_path = PATH.joinpath(\"result\").joinpath(\"mask-prediction\").absolute()\n",
    "dp_mask_pred_path = PATH.joinpath(\"result\").joinpath(\"dp-mask-prediction\").absolute()"
   ]
  },
  {
   "cell_type": "code",
   "execution_count": null,
   "metadata": {},
   "outputs": [],
   "source": [
    "preds = model.readlines(pred_path)"
   ]
  },
  {
   "cell_type": "code",
   "execution_count": null,
   "metadata": {},
   "outputs": [],
   "source": [
    "dp_preds = model.readlines(dp_pred_path)"
   ]
  },
  {
   "cell_type": "code",
   "execution_count": null,
   "metadata": {},
   "outputs": [],
   "source": [
    "labels = model.readlines(label_path)"
   ]
  },
  {
   "cell_type": "code",
   "execution_count": null,
   "metadata": {},
   "outputs": [],
   "source": [
    "mask_preds = model.readlines(mask_pred_path)"
   ]
  },
  {
   "cell_type": "code",
   "execution_count": null,
   "metadata": {},
   "outputs": [],
   "source": [
    "dp_mask_preds = model.readlines(dp_mask_pred_path)"
   ]
  },
  {
   "cell_type": "code",
   "execution_count": null,
   "metadata": {},
   "outputs": [],
   "source": [
    "mask_labels = model.readlines(mask_label_path)"
   ]
  },
  {
   "cell_type": "code",
   "execution_count": 27,
   "metadata": {},
   "outputs": [],
   "source": [
    "char_error_rate = CharErrorRate()"
   ]
  },
  {
   "cell_type": "code",
   "execution_count": null,
   "metadata": {},
   "outputs": [],
   "source": [
    "score = char_error_rate(preds, labels)\n",
    "print(f\"Score For Spell Correction: {score}\")"
   ]
  },
  {
   "cell_type": "code",
   "execution_count": null,
   "metadata": {},
   "outputs": [],
   "source": [
    "dp_score = char_error_rate(dp_preds, labels)\n",
    "print(f\"Score For DP Spell Correction: {dp_score}\")"
   ]
  },
  {
   "cell_type": "code",
   "execution_count": null,
   "metadata": {},
   "outputs": [],
   "source": [
    "mask_score = char_error_rate(mask_preds, mask_labels)\n",
    "print(f\"Score For Memoization: {mask_score}\")"
   ]
  },
  {
   "cell_type": "code",
   "execution_count": null,
   "metadata": {},
   "outputs": [],
   "source": [
    "dp_mask_score = char_error_rate(dp_mask_preds, mask_labels)\n",
    "print(f\"Score For DP Memoization: {dp_mask_score}\")"
   ]
  },
  {
   "cell_type": "code",
   "execution_count": null,
   "metadata": {},
   "outputs": [],
   "source": [
    "mask_labels"
   ]
  }
 ],
 "metadata": {
  "kernelspec": {
   "display_name": "non-package-mode-vDS7Wbpe-py3.10",
   "language": "python",
   "name": "python3"
  },
  "language_info": {
   "codemirror_mode": {
    "name": "ipython",
    "version": 3
   },
   "file_extension": ".py",
   "mimetype": "text/x-python",
   "name": "python",
   "nbconvert_exporter": "python",
   "pygments_lexer": "ipython3",
   "version": "3.10.12"
  }
 },
 "nbformat": 4,
 "nbformat_minor": 2
}
